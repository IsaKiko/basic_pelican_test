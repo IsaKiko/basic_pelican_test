{
 "cells": [
  {
   "cell_type": "markdown",
   "metadata": {},
   "source": [
    "%%writefile\n",
    "\n",
    "Title: My second post\n",
    "Date: 2010-08-25 15:38\n",
    "Category: test\n",
    "\n",
    "This one I'm writing in a python notebook, where the markdown syntax highlighting seems moderately better for some stupid reason.\n",
    "\n",
    "* a list is coloured ... yay!\n",
    "    * even its sub point is coloured differntly.\n",
    "    \n",
    "# Another heading (highlighted)\n",
    "\n"
   ]
  },
  {
   "cell_type": "code",
   "execution_count": null,
   "metadata": {
    "collapsed": true
   },
   "outputs": [],
   "source": []
  }
 ],
 "metadata": {
  "kernelspec": {
   "display_name": "Python 2",
   "language": "python",
   "name": "python2"
  },
  "language_info": {
   "codemirror_mode": {
    "name": "ipython",
    "version": 2
   },
   "file_extension": ".py",
   "mimetype": "text/x-python",
   "name": "python",
   "nbconvert_exporter": "python",
   "pygments_lexer": "ipython2",
   "version": "2.7.10"
  }
 },
 "nbformat": 4,
 "nbformat_minor": 0
}
